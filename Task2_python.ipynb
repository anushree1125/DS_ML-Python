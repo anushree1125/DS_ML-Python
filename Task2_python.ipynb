{
  "nbformat": 4,
  "nbformat_minor": 0,
  "metadata": {
    "colab": {
      "name": "Task2.ipynb",
      "provenance": [],
      "collapsed_sections": [],
      "authorship_tag": "ABX9TyMMcB6ekcMrgyRLNqmnwG7M",
      "include_colab_link": true
    },
    "kernelspec": {
      "display_name": "Python 3",
      "name": "python3"
    },
    "language_info": {
      "name": "python"
    }
  },
  "cells": [
    {
      "cell_type": "markdown",
      "metadata": {
        "id": "view-in-github",
        "colab_type": "text"
      },
      "source": [
        "<a href=\"https://colab.research.google.com/github/anushree1125/DS_ML-widpython/blob/main/Task2_python.ipynb\" target=\"_parent\"><img src=\"https://colab.research.google.com/assets/colab-badge.svg\" alt=\"Open In Colab\"/></a>"
      ]
    },
    {
      "cell_type": "markdown",
      "metadata": {
        "id": "igyh1QUxKLPK"
      },
      "source": [
        "#  ***TASK- 2***"
      ]
    },
    {
      "cell_type": "markdown",
      "metadata": {
        "id": "LKj_UiuuJz6r"
      },
      "source": [
        "***REG NO: GO_STP_3122***"
      ]
    },
    {
      "cell_type": "markdown",
      "metadata": {
        "id": "xYWcqkj2l8YO"
      },
      "source": [
        "***1.Is a list mutable?***"
      ]
    },
    {
      "cell_type": "markdown",
      "metadata": {
        "id": "E2GmFiQRmClO"
      },
      "source": [
        "Ans: List is both mutable and a sequence data type that allows them to be indexed and sliced."
      ]
    },
    {
      "cell_type": "markdown",
      "metadata": {
        "id": "NgU-awmemZxH"
      },
      "source": [
        "***2.Does a list need to be homogeneous?***"
      ]
    },
    {
      "cell_type": "markdown",
      "metadata": {
        "id": "3N2IuNW3m4-X"
      },
      "source": [
        "Ans:The list can contain different types of objects, including other list objects.So it can be heterogeneous."
      ]
    },
    {
      "cell_type": "markdown",
      "metadata": {
        "id": "FIvP-X7CFjqA"
      },
      "source": [
        "***3.How to check whether the list is empty or not?***"
      ]
    },
    {
      "cell_type": "code",
      "metadata": {
        "colab": {
          "base_uri": "https://localhost:8080/"
        },
        "id": "vnGo-OfqGJdg",
        "outputId": "5b442073-eeae-4e66-a7a5-49d57b3294c3"
      },
      "source": [
        "if __name__ == '__main__':\n",
        " \n",
        "    a = []\n",
        " \n",
        "    if not a:\n",
        "        print(\"List is empty\")"
      ],
      "execution_count": null,
      "outputs": [
        {
          "output_type": "stream",
          "text": [
            "List is empty\n"
          ],
          "name": "stdout"
        }
      ]
    },
    {
      "cell_type": "markdown",
      "metadata": {
        "id": "5q8EKbGRF_wG"
      },
      "source": [
        "***4.How to find the first and last element of the list?***"
      ]
    },
    {
      "cell_type": "markdown",
      "metadata": {
        "id": "5MP8-RXWF9qC"
      },
      "source": [
        "Using only index. In any list the first element is assigned index value 0 and the last element can be considered as a value -1"
      ]
    },
    {
      "cell_type": "markdown",
      "metadata": {
        "id": "t3gf0cCDGeUv"
      },
      "source": [
        "***5.How to find the largest and lowest value in the list***"
      ]
    },
    {
      "cell_type": "markdown",
      "metadata": {
        "id": "Tp_LLGP-G4sv"
      },
      "source": [
        "using min() and max()"
      ]
    },
    {
      "cell_type": "markdown",
      "metadata": {
        "id": "FNui7BnpGuT_"
      },
      "source": [
        "***6.How to access elements of the list?***"
      ]
    },
    {
      "cell_type": "markdown",
      "metadata": {
        "id": "IBDCqTbUGy_o"
      },
      "source": [
        "using indexing or slicing."
      ]
    },
    {
      "cell_type": "markdown",
      "metadata": {
        "id": "kT3xbjY1HEEs"
      },
      "source": [
        "***7.Remove elements in a list before a specific index***\n",
        "\n"
      ]
    },
    {
      "cell_type": "markdown",
      "metadata": {
        "id": "y-xcBRnPHT3P"
      },
      "source": [
        "using delete function"
      ]
    },
    {
      "cell_type": "markdown",
      "metadata": {
        "id": "a6v2qL4tHOo9"
      },
      "source": [
        "***8.Remove elements in a list between 2 indices***"
      ]
    },
    {
      "cell_type": "markdown",
      "metadata": {
        "id": "rVzfsTCwJstA"
      },
      "source": [
        "using remove()"
      ]
    },
    {
      "cell_type": "markdown",
      "metadata": {
        "id": "bcP79Lr_m_lX"
      },
      "source": [
        "***9.What is the difference between a list and a tuple***"
      ]
    },
    {
      "cell_type": "markdown",
      "metadata": {
        "id": "EP5eHEAwnD7f"
      },
      "source": [
        "\n",
        "List: mutable\n",
        "Tuple: immutable"
      ]
    },
    {
      "cell_type": "markdown",
      "metadata": {
        "id": "JQ-lsqfhnP92"
      },
      "source": [
        "***10.How to find the number of elements in the list?***"
      ]
    },
    {
      "cell_type": "markdown",
      "metadata": {
        "id": "R8SAQDUGnVXn"
      },
      "source": [
        "Ans:Using len() function\n"
      ]
    },
    {
      "cell_type": "code",
      "metadata": {
        "colab": {
          "background_save": true
        },
        "id": "9CSewvx5n6IC"
      },
      "source": [
        "l=[1,3,4]\n"
      ],
      "execution_count": null,
      "outputs": []
    },
    {
      "cell_type": "code",
      "metadata": {
        "id": "hX_9q-3mn-F4"
      },
      "source": [
        "len(l)"
      ],
      "execution_count": null,
      "outputs": []
    },
    {
      "cell_type": "markdown",
      "metadata": {
        "id": "ClvSE3Kt9A9P"
      },
      "source": [
        "**11.Return every 2nd element in a list between 2 indices**"
      ]
    },
    {
      "cell_type": "markdown",
      "metadata": {
        "id": "XuDKxd_j9JfV"
      },
      "source": [
        "Ans: l[::2]"
      ]
    },
    {
      "cell_type": "markdown",
      "metadata": {
        "id": "tqY1X7Z69SQN"
      },
      "source": [
        "**12.Get the first element from each nested list in a list**"
      ]
    },
    {
      "cell_type": "markdown",
      "metadata": {
        "id": "FE3GVFJ69ZUu"
      },
      "source": [
        "**13.How to modify elements of the list?**"
      ]
    },
    {
      "cell_type": "markdown",
      "metadata": {
        "id": "Thdcas7v9nL-"
      },
      "source": [
        "Ans :To change a list element we use, list name followed by the index position inside the square brackets ([]), and then provides the new value using the Equal sign. "
      ]
    },
    {
      "cell_type": "markdown",
      "metadata": {
        "id": "1hjWNE2u9w3V"
      },
      "source": [
        "**14.How to concatenate two lists?**"
      ]
    },
    {
      "cell_type": "markdown",
      "metadata": {
        "id": "wmV4MmW498Vt"
      },
      "source": [
        "Ans:Using a.append(b)"
      ]
    },
    {
      "cell_type": "markdown",
      "metadata": {
        "id": "xT8YWgHB947l"
      },
      "source": [
        "**15.How to add two lists element-wise in python?**"
      ]
    },
    {
      "cell_type": "code",
      "metadata": {
        "colab": {
          "base_uri": "https://localhost:8080/"
        },
        "id": "z3kT2YGV-Q4Z",
        "outputId": "7e2b789b-4ba8-45fd-84f6-de43d8ea24c5"
      },
      "source": [
        "list1 = [1, 2, 3]\n",
        "list2 = [4, 5, 6]\n",
        "sum_list = [] #initialize result list.\n",
        "for (item1, item2) in zip(list1, list2):\n",
        "     sum_list.append(item1+item2)\n",
        "print(sum_list)"
      ],
      "execution_count": null,
      "outputs": [
        {
          "output_type": "stream",
          "text": [
            "[5, 7, 9]\n"
          ],
          "name": "stdout"
        }
      ]
    },
    {
      "cell_type": "markdown",
      "metadata": {
        "id": "vR3dox0X-k0t"
      },
      "source": [
        "***16.Difference between del and clear?***"
      ]
    },
    {
      "cell_type": "markdown",
      "metadata": {
        "id": "-LWoqMWx-xXu"
      },
      "source": [
        " clear() – removes all items from the list,del removes the element present at specified index"
      ]
    },
    {
      "cell_type": "markdown",
      "metadata": {
        "id": "dFZ9D-Tf_RD-"
      },
      "source": [
        "***17.Difference between remove and pop?***"
      ]
    },
    {
      "cell_type": "markdown",
      "metadata": {
        "id": "itPlqY_X_ZWw"
      },
      "source": [
        "Remove() deletes the matching element from the list whereas the del and pop removes the element present at specified index"
      ]
    },
    {
      "cell_type": "markdown",
      "metadata": {
        "id": "vrfoGPot_do9"
      },
      "source": [
        "***18.Difference between append and extend?***"
      ]
    },
    {
      "cell_type": "markdown",
      "metadata": {
        "id": "8mpNepWi_iYU"
      },
      "source": [
        "append() adds a single element to the end of the list while . extend() can add multiple individual elements to the end of the list."
      ]
    },
    {
      "cell_type": "markdown",
      "metadata": {
        "id": "8FzXr-5T_xxN"
      },
      "source": [
        "***19.Difference between indexing and Slicing?***"
      ]
    },
    {
      "cell_type": "markdown",
      "metadata": {
        "id": "z7EtsI54_on9"
      },
      "source": [
        "“Indexing” means referring to an element of an iterable by its position within the iterable. “Slicing” means getting a subset of elements from an iterable based on their indices."
      ]
    },
    {
      "cell_type": "markdown",
      "metadata": {
        "id": "yQ4o3FNM_1od"
      },
      "source": [
        "***20.Difference between sort and sorted?***"
      ]
    },
    {
      "cell_type": "markdown",
      "metadata": {
        "id": "DziXZoAf_5dI"
      },
      "source": [
        "Difference between the list sort() function and the sorted() function is that the sort() function will modify the list it is called on. The sorted() function will create a new list containing a sorted version of the list it is given."
      ]
    },
    {
      "cell_type": "markdown",
      "metadata": {
        "id": "LBe39aYtAAjw"
      },
      "source": [
        "***21.Difference between reverse and reversed?***"
      ]
    },
    {
      "cell_type": "markdown",
      "metadata": {
        "id": "xjSBJMi8AItN"
      },
      "source": [
        "Reverse() actually reverses the elements in the container. reversed() doesn't actually reverse anything, it merely returns an object that can be used to iterate over the container's elements in reverse order."
      ]
    },
    {
      "cell_type": "markdown",
      "metadata": {
        "id": "MxVQKs9qATD-"
      },
      "source": [
        "***22.Difference between copy and deepcopy?***"
      ]
    },
    {
      "cell_type": "markdown",
      "metadata": {
        "id": "KK-sxNgkALtt"
      },
      "source": [
        "A shallow copy constructs a new compound object and then (to the extent possible) inserts references into it to the objects found in the original. A deep copy constructs a new compound object and then, recursively, inserts copies into it of the objects found in the original."
      ]
    },
    {
      "cell_type": "markdown",
      "metadata": {
        "id": "CT4ZEHDnAWoo"
      },
      "source": [
        "***23.How to remove duplicate elements in the list?***"
      ]
    },
    {
      "cell_type": "code",
      "metadata": {
        "colab": {
          "base_uri": "https://localhost:8080/"
        },
        "id": "AIZPoFqpBH5W",
        "outputId": "0127db0d-d8c8-43cf-f743-3e3541565023"
      },
      "source": [
        "mylist = [\"a\", \"b\", \"a\", \"c\", \"c\"]\n",
        "mylist = list(dict.fromkeys(mylist))\n",
        "print(mylist)"
      ],
      "execution_count": null,
      "outputs": [
        {
          "output_type": "stream",
          "text": [
            "['a', 'b', 'c']\n"
          ],
          "name": "stdout"
        }
      ]
    },
    {
      "cell_type": "markdown",
      "metadata": {
        "id": "m5Ey70fuA48V"
      },
      "source": [
        "***24.How to find an index of an element in the python list?***"
      ]
    },
    {
      "cell_type": "markdown",
      "metadata": {
        "id": "d85glYnxBP6u"
      },
      "source": [
        "Call list. index(value) to find the index of the first occurrence of value in list ."
      ]
    },
    {
      "cell_type": "markdown",
      "metadata": {
        "id": "SdPQH9rsBYZ-"
      },
      "source": [
        "***25.How to find the occurrences of an element in the python list?***"
      ]
    },
    {
      "cell_type": "code",
      "metadata": {
        "colab": {
          "base_uri": "https://localhost:8080/"
        },
        "id": "-OmC0ii-BnFN",
        "outputId": "d76a143d-6dc3-49d2-a089-a60712408743"
      },
      "source": [
        "from collections import Counter\n",
        " \n",
        "# declaring the list\n",
        "l = [1, 1, 2, 2, 3, 3, 4, 4, 5, 5]\n",
        " \n",
        "# driver program\n",
        "x = 3\n",
        "d = Counter(l)\n",
        "print('{} has occurred {} times'.format(x, d[x]))"
      ],
      "execution_count": null,
      "outputs": [
        {
          "output_type": "stream",
          "text": [
            "3 has occurred 2 times\n"
          ],
          "name": "stdout"
        }
      ]
    },
    {
      "cell_type": "markdown",
      "metadata": {
        "id": "78I3Hj5pCRuX"
      },
      "source": [
        "***26.How to insert an item at a given position?***"
      ]
    },
    {
      "cell_type": "markdown",
      "metadata": {
        "id": "5FlEQVtfCSfh"
      },
      "source": [
        "insert() In python list provides a member function insert() i.e. It accepts a position and an element and inserts the element at given position in the list."
      ]
    },
    {
      "cell_type": "markdown",
      "metadata": {
        "id": "Ql9F828XCX7s"
      },
      "source": [
        "***27.How to check if an item is in the list?***"
      ]
    },
    {
      "cell_type": "markdown",
      "metadata": {
        "id": "k55qoEVcCcBu"
      },
      "source": [
        " Using in"
      ]
    },
    {
      "cell_type": "markdown",
      "metadata": {
        "id": "a9ksvCfYC--H"
      },
      "source": [
        "***28.How to flatten a list in python?***"
      ]
    },
    {
      "cell_type": "markdown",
      "metadata": {
        "id": "my6gPLTqDYbP"
      },
      "source": [
        "Write a function called flatten_list."
      ]
    },
    {
      "cell_type": "markdown",
      "metadata": {
        "id": "k7yNGHtzDZ7-"
      },
      "source": [
        "***29.How to convert python list to other data structures like set, tuple, dictionary?***"
      ]
    },
    {
      "cell_type": "markdown",
      "metadata": {
        "id": "Xf7aTmAmDhdN"
      },
      "source": [
        " Typecasting to tuple can be done by simply using tuple(list_name).To convert a list to a dictionary using the same values, you can use the dict. fromkeys() method. To convert two lists into one dictionary, you can use the Python zip() function.Use the set[a_list] to convert a list into a set.\n"
      ]
    },
    {
      "cell_type": "markdown",
      "metadata": {
        "id": "Y70NXyYUDvj1"
      },
      "source": [
        "***30.How to apply a function to all items in the list?***"
      ]
    },
    {
      "cell_type": "markdown",
      "metadata": {
        "id": "tDaOohRrEEbB"
      },
      "source": [
        "Use map() to apply a function to a list"
      ]
    },
    {
      "cell_type": "code",
      "metadata": {
        "colab": {
          "base_uri": "https://localhost:8080/"
        },
        "id": "TlRH-81EEJPO",
        "outputId": "c86cb872-32cf-4977-a093-673c26ba6d5e"
      },
      "source": [
        "a_list = [\"a\", \"b\", \"c\"]\n",
        "map_object = map(str. upper, a_list) #capitalize each letter.\n",
        "new_list = list(map_object)\n",
        "print(new_list)"
      ],
      "execution_count": null,
      "outputs": [
        {
          "output_type": "stream",
          "text": [
            "['A', 'B', 'C']\n"
          ],
          "name": "stdout"
        }
      ]
    },
    {
      "cell_type": "markdown",
      "metadata": {
        "id": "S7zj-UcUEaqm"
      },
      "source": [
        "***31.How to filter the elements based on a function in a python list?***"
      ]
    },
    {
      "cell_type": "markdown",
      "metadata": {
        "id": "-0doOD2jEQkV"
      },
      "source": [
        "Python has a built-in function called filter() that allows you to filter a list (or a tuple)"
      ]
    },
    {
      "cell_type": "markdown",
      "metadata": {
        "id": "Ltv46zLeEfJV"
      },
      "source": [
        "***32.How python lists are stored in memory?***"
      ]
    },
    {
      "cell_type": "markdown",
      "metadata": {
        "id": "WhYndJRuEo0G"
      },
      "source": [
        "Lists are stored in distinct chunks of memory which are linked together with pointers, which enables efficient use of memory generally and doesn't require resizing."
      ]
    }
  ]
}