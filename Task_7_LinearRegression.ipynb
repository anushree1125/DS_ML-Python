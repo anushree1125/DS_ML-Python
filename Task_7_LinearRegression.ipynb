{
  "nbformat": 4,
  "nbformat_minor": 0,
  "metadata": {
    "colab": {
      "name": "Task-7.ipynb",
      "provenance": [],
      "authorship_tag": "ABX9TyNSWJOf+3l5IxRkyL3L5en0",
      "include_colab_link": true
    },
    "kernelspec": {
      "name": "python3",
      "display_name": "Python 3"
    },
    "language_info": {
      "name": "python"
    }
  },
  "cells": [
    {
      "cell_type": "markdown",
      "metadata": {
        "id": "view-in-github",
        "colab_type": "text"
      },
      "source": [
        "<a href=\"https://colab.research.google.com/github/anushree1125/DS_ML-widpython/blob/main/Task_7_LinearRegression.ipynb\" target=\"_parent\"><img src=\"https://colab.research.google.com/assets/colab-badge.svg\" alt=\"Open In Colab\"/></a>"
      ]
    },
    {
      "cell_type": "markdown",
      "metadata": {
        "id": "7RW3tyfAg1wE"
      },
      "source": [
        "**Task-7**"
      ]
    },
    {
      "cell_type": "markdown",
      "metadata": {
        "id": "NrE-4zftiC04"
      },
      "source": [
        "**GO_STP_3122**"
      ]
    },
    {
      "cell_type": "markdown",
      "metadata": {
        "id": "4quHn8Ur3xza"
      },
      "source": [
        "***Prediction using Supervised Machine Learning using Simple Linear Regression***"
      ]
    },
    {
      "cell_type": "markdown",
      "metadata": {
        "id": "rj7ZmuBl34rh"
      },
      "source": [
        "In this task we have to find the students scores based on their study hours. This is a simple Regression problem type because it has only two variables. "
      ]
    },
    {
      "cell_type": "code",
      "metadata": {
        "id": "QSr-Wz6xirTx"
      },
      "source": [
        "import numpy as np\n",
        "import matplotlib.pyplot as plt\n",
        "import pandas as pd"
      ],
      "execution_count": null,
      "outputs": []
    },
    {
      "cell_type": "code",
      "metadata": {
        "id": "mSPV5WxTyLva"
      },
      "source": [
        "dataset=pd.read_csv(\"/content/StudentHoursScores.csv\")"
      ],
      "execution_count": null,
      "outputs": []
    },
    {
      "cell_type": "code",
      "metadata": {
        "colab": {
          "base_uri": "https://localhost:8080/"
        },
        "id": "7L3CiOmmyguh",
        "outputId": "dc89873a-f06b-4d3d-ad9d-c644bd1282ce"
      },
      "source": [
        "print(dataset)"
      ],
      "execution_count": null,
      "outputs": [
        {
          "output_type": "stream",
          "text": [
            "    Hours  Scores\n",
            "0     7.7      79\n",
            "1     5.9      60\n",
            "2     4.5      45\n",
            "3     3.3      33\n",
            "4     1.1      12\n",
            "5     8.9      87\n",
            "6     2.5      21\n",
            "7     1.9      19\n",
            "8     2.7      29\n",
            "9     8.3      81\n",
            "10    5.5      58\n",
            "11    9.2      88\n",
            "12    1.5      14\n",
            "13    3.5      34\n",
            "14    8.5      85\n",
            "15    3.2      32\n",
            "16    6.5      66\n",
            "17    2.5      21\n",
            "18    9.6      96\n",
            "19    4.3      42\n",
            "20    4.1      40\n",
            "21    3.0      30\n",
            "22    2.6      25\n"
          ],
          "name": "stdout"
        }
      ]
    },
    {
      "cell_type": "code",
      "metadata": {
        "colab": {
          "base_uri": "https://localhost:8080/"
        },
        "id": "GWxyzozxzSUx",
        "outputId": "e5d9075b-b0ca-4ad1-94b6-0bfa9871ee04"
      },
      "source": [
        "x=dataset.iloc[:,:-1].values   #converted to numpy array #all rows except last column #iloc to read values #last column label\n",
        "y=dataset.iloc[:,1].values\n",
        "print(x) #dataframe 2 \n",
        "print(y)"
      ],
      "execution_count": null,
      "outputs": [
        {
          "output_type": "stream",
          "text": [
            "[[7.7]\n",
            " [5.9]\n",
            " [4.5]\n",
            " [3.3]\n",
            " [1.1]\n",
            " [8.9]\n",
            " [2.5]\n",
            " [1.9]\n",
            " [2.7]\n",
            " [8.3]\n",
            " [5.5]\n",
            " [9.2]\n",
            " [1.5]\n",
            " [3.5]\n",
            " [8.5]\n",
            " [3.2]\n",
            " [6.5]\n",
            " [2.5]\n",
            " [9.6]\n",
            " [4.3]\n",
            " [4.1]\n",
            " [3. ]\n",
            " [2.6]]\n",
            "[79 60 45 33 12 87 21 19 29 81 58 88 14 34 85 32 66 21 96 42 40 30 25]\n"
          ],
          "name": "stdout"
        }
      ]
    },
    {
      "cell_type": "code",
      "metadata": {
        "id": "njE0Sjhtyp4R"
      },
      "source": [
        "import sklearn\n",
        "from sklearn.model_selection import train_test_split\n",
        "xtrain,xtest,ytrain,ytest=train_test_split(x,y,test_size=1/3,random_state=1)"
      ],
      "execution_count": null,
      "outputs": []
    },
    {
      "cell_type": "code",
      "metadata": {
        "id": "4bax2wUqzabj"
      },
      "source": [
        "from sklearn.linear_model import LinearRegression\n",
        "model=LinearRegression()  #y=ax+b\n",
        "mymodel=model.fit(xtrain,ytrain)"
      ],
      "execution_count": null,
      "outputs": []
    },
    {
      "cell_type": "code",
      "metadata": {
        "colab": {
          "base_uri": "https://localhost:8080/"
        },
        "id": "VflnzzzezfJo",
        "outputId": "1cfc1f7a-2904-4e81-cbe6-8c44dc1e7727"
      },
      "source": [
        "y_pred=mymodel.predict(xtest)\n",
        "y_pred"
      ],
      "execution_count": null,
      "outputs": [
        {
          "output_type": "execute_result",
          "data": {
            "text/plain": [
              "array([40.50038393, 24.63061172, 32.56549782, 34.54921935, 42.48410545,\n",
              "       64.30504223, 54.3864346 , 10.74456104])"
            ]
          },
          "metadata": {
            "tags": []
          },
          "execution_count": 12
        }
      ]
    },
    {
      "cell_type": "code",
      "metadata": {
        "colab": {
          "base_uri": "https://localhost:8080/"
        },
        "id": "jJJ1fhwDzm1B",
        "outputId": "9cfcc20d-3e53-4033-e6e5-d866902955cd"
      },
      "source": [
        "ytest"
      ],
      "execution_count": null,
      "outputs": [
        {
          "output_type": "execute_result",
          "data": {
            "text/plain": [
              "array([40, 21, 33, 34, 42, 66, 58, 12])"
            ]
          },
          "metadata": {
            "tags": []
          },
          "execution_count": 13
        }
      ]
    },
    {
      "cell_type": "code",
      "metadata": {
        "colab": {
          "base_uri": "https://localhost:8080/"
        },
        "id": "h_tK62uQ1Xao",
        "outputId": "a87cfcdb-8a5b-4a5a-8e1e-0598ee944759"
      },
      "source": [
        "xtest"
      ],
      "execution_count": null,
      "outputs": [
        {
          "output_type": "execute_result",
          "data": {
            "text/plain": [
              "array([[4.1],\n",
              "       [2.5],\n",
              "       [3.3],\n",
              "       [3.5],\n",
              "       [4.3],\n",
              "       [6.5],\n",
              "       [5.5],\n",
              "       [1.1]])"
            ]
          },
          "metadata": {
            "tags": []
          },
          "execution_count": 15
        }
      ]
    },
    {
      "cell_type": "code",
      "metadata": {
        "colab": {
          "base_uri": "https://localhost:8080/"
        },
        "id": "H0gkzla-3KqQ",
        "outputId": "8edb8abf-188e-47f8-96e0-380b7fbf0086"
      },
      "source": [
        "mymodel.coef_"
      ],
      "execution_count": null,
      "outputs": [
        {
          "output_type": "execute_result",
          "data": {
            "text/plain": [
              "array([9.91860763])"
            ]
          },
          "metadata": {
            "tags": []
          },
          "execution_count": 17
        }
      ]
    },
    {
      "cell_type": "code",
      "metadata": {
        "colab": {
          "base_uri": "https://localhost:8080/"
        },
        "id": "KwHMLQfT3RTB",
        "outputId": "cf563d23-c9a4-43fd-c56a-e4cd3df3487b"
      },
      "source": [
        "mymodel.intercept_"
      ],
      "execution_count": null,
      "outputs": [
        {
          "output_type": "execute_result",
          "data": {
            "text/plain": [
              "-0.16590734578961275"
            ]
          },
          "metadata": {
            "tags": []
          },
          "execution_count": 18
        }
      ]
    },
    {
      "cell_type": "code",
      "metadata": {
        "colab": {
          "base_uri": "https://localhost:8080/"
        },
        "id": "ky7i_MGF3fZw",
        "outputId": "9fb5d21b-5d06-4165-d9ba-4cd63b3960c3"
      },
      "source": [
        "model.predict([[10]])"
      ],
      "execution_count": null,
      "outputs": [
        {
          "output_type": "execute_result",
          "data": {
            "text/plain": [
              "array([99.02016893])"
            ]
          },
          "metadata": {
            "tags": []
          },
          "execution_count": 21
        }
      ]
    },
    {
      "cell_type": "code",
      "metadata": {
        "colab": {
          "base_uri": "https://localhost:8080/",
          "height": 269
        },
        "id": "_Jw1YDq3z22o",
        "outputId": "026cf451-ad0d-4984-c978-ba4fce347e31"
      },
      "source": [
        "plt.scatter(xtrain,ytrain,color='g')  #can replace test inplave of train\n",
        "plt.plot(xtrain,mymodel.predict(xtrain))\n",
        "plt.show()"
      ],
      "execution_count": null,
      "outputs": [
        {
          "output_type": "display_data",
          "data": {
            "image/png": "[encoded data removed]",
            "text/plain": [
              "<Figure size 432x288 with 1 Axes>"
            ]
          },
          "metadata": {
            "tags": [],
            "needs_background": "light"
          }
        }
      ]
    }
  ]
}