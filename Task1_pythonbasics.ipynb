{
  "nbformat": 4,
  "nbformat_minor": 0,
  "metadata": {
    "colab": {
      "name": "Task1.ipynb",
      "provenance": [],
      "collapsed_sections": [],
      "authorship_tag": "ABX9TyM45GPKsXieinw1WjNuWx4D",
      "include_colab_link": true
    },
    "kernelspec": {
      "name": "python3",
      "display_name": "Python 3"
    },
    "language_info": {
      "name": "python"
    }
  },
  "cells": [
    {
      "cell_type": "markdown",
      "metadata": {
        "id": "view-in-github",
        "colab_type": "text"
      },
      "source": [
        "<a href=\"https://colab.research.google.com/github/anushree1125/DS_ML-widpython/blob/main/Task1_pythonbasics.ipynb\" target=\"_parent\"><img src=\"https://colab.research.google.com/assets/colab-badge.svg\" alt=\"Open In Colab\"/></a>"
      ]
    },
    {
      "cell_type": "markdown",
      "metadata": {
        "id": "F9KN4aR6KsR1"
      },
      "source": [
        "**Task** **1**"
      ]
    },
    {
      "cell_type": "markdown",
      "metadata": {
        "id": "5oyrcXJAJy_y"
      },
      "source": [
        "**Register no:** **GO_STP_3122**"
      ]
    },
    {
      "cell_type": "markdown",
      "metadata": {
        "id": "rXpRfmiyH2g0"
      },
      "source": [
        "1. We are having 3 list like this\n",
        "\n",
        "Colors = [“Yellow”,”Green”,”White”,”Black”]\n",
        "\n",
        "Fruits=[“Apple”,”Papaya”,”Mango”,”Orange”]\n",
        "\n",
        "Animals=[“Tiger”,”Lion”,”Deer”,”Zebra”]\n",
        "\n",
        "  i. Write a program that asks user to enter a Color/Fruit/Animal name and it should tell which category belongs to , like its is a fruit or color or Animal\n"
      ]
    },
    {
      "cell_type": "code",
      "metadata": {
        "colab": {
          "base_uri": "https://localhost:8080/"
        },
        "id": "zn7aEP4uH6gr",
        "outputId": "3dbce2f8-f028-47e8-e567-74ed513b873e"
      },
      "source": [
        "Colors = ['Yellow','Green','White','Black']\n",
        "\n",
        "Fruits=['Apple','Papaya','Mango','Orange']\n",
        "\n",
        "Animals=['Tiger','Lion','Deer','Zebra']\n",
        "name=input('Enter the name: ')\n",
        "if name in Colors:\n",
        "  category=\"Colors\"\n",
        "elif name in Fruits:\n",
        "  category=\"Fruits\"\n",
        "elif name in Animals:\n",
        "  category=\"Animals\"\n",
        "else:\n",
        "  category=\"Not valid\"\n",
        "print(f\"Category :{category}\")"
      ],
      "execution_count": null,
      "outputs": [
        {
          "output_type": "stream",
          "text": [
            "Enter the name: White\n",
            "Category :Colors\n"
          ],
          "name": "stdout"
        }
      ]
    },
    {
      "cell_type": "markdown",
      "metadata": {
        "id": "LD1Zcn_nK8LV"
      },
      "source": [
        "ii. Write a program that asks user to enter two cities and it tells you if they both are in same country or not. For example if I enter yellow and Black, it will print \"Both are colors\" but if I enter yellow and Tiger it should print \"They don't belong to same category\"\n"
      ]
    },
    {
      "cell_type": "code",
      "metadata": {
        "colab": {
          "base_uri": "https://localhost:8080/"
        },
        "id": "pevu3i0uMr30",
        "outputId": "3463bff1-aad7-4c25-a25a-08db94804ef4"
      },
      "source": [
        "name_1 =input('Enter the name 1: ')\n",
        "name_2 =input('Enter the name 2: ')\n",
        "\n",
        "if name_1 in Colors and name_2 in Colors:\n",
        "  category=\"Both are colors\"\n",
        "elif name_1 in Colors and name_2 in Fruits:\n",
        "  category=\"Both are Fruits\"\n",
        "elif name_1 in Colors and name_2 in Animals:\n",
        "  category=\"Both are Animals\"\n",
        "else:\n",
        "  category=\"They don't belong to same category or not valid input\"\n",
        "print(f'Category:{category}')"
      ],
      "execution_count": null,
      "outputs": [
        {
          "output_type": "stream",
          "text": [
            "Enter the name 1: Yellow\n",
            "Enter the name 2: Black\n",
            "Category:Both are colors\n"
          ],
          "name": "stdout"
        }
      ]
    },
    {
      "cell_type": "markdown",
      "metadata": {
        "id": "so3ja6pYN2Qt"
      },
      "source": [
        "2.  Write a python program that can tell you if your grade score good or not . Good Score range is 40 to 60.\n",
        "\n",
        "  i. Ask user to enter his score.\n",
        "\n",
        "  ii. If it is below 40 to 60 range then print that score is low\n",
        "\n",
        "  iii. If it is above 60 then print that it is good otherwise print that it is normal"
      ]
    },
    {
      "cell_type": "code",
      "metadata": {
        "colab": {
          "base_uri": "https://localhost:8080/"
        },
        "id": "q1VhLKloOARu",
        "outputId": "2deff05a-08a9-4f61-c617-3e7554e6a628"
      },
      "source": [
        "score= eval(input(\"Enter the score: \"))\n",
        "if score>60:\n",
        "  print(\"Good\")\n",
        "elif score<40:\n",
        "  print(\"Low\")\n",
        "else:\n",
        "  print(\"Normal\")\n",
        "  "
      ],
      "execution_count": null,
      "outputs": [
        {
          "output_type": "stream",
          "text": [
            "Enter the score: 100\n",
            "Good\n"
          ],
          "name": "stdout"
        }
      ]
    },
    {
      "cell_type": "markdown",
      "metadata": {
        "id": "Ild0J-AVPxae"
      },
      "source": [
        "3.  After appearing in exam 10 times you got this result,\n",
        "\n",
        "result = [\"Pass\",\"Fail\",\"Fail\",\"Pass\",\"Fail\",\"Pass\",\"Pass\",\"Fail\",\"Fail\",\"Fail\"]\n",
        "\n",
        "Using for loop figure out how many times you got Pass"
      ]
    },
    {
      "cell_type": "code",
      "metadata": {
        "colab": {
          "base_uri": "https://localhost:8080/"
        },
        "id": "a79uGg51QBXF",
        "outputId": "8ef9699e-8cb9-43c8-b78a-d1fc3be66bc3"
      },
      "source": [
        "result = [\"Pass\",\"Fail\",\"Fail\",\"Pass\",\"Fail\",\"Pass\",\"Pass\",\"Fail\",\"Fail\",\"Fail\"]\n",
        "count =0\n",
        "for string in result:\n",
        "  if string.lower()==\"pass\":\n",
        "      count +=1\n",
        "print(count)"
      ],
      "execution_count": null,
      "outputs": [
        {
          "output_type": "stream",
          "text": [
            "4\n"
          ],
          "name": "stdout"
        }
      ]
    },
    {
      "cell_type": "markdown",
      "metadata": {
        "id": "0GvHCufdQwju"
      },
      "source": [
        "4.  Write a program that prints following shape\n",
        "\n",
        "*\n",
        "\n",
        "* *\n",
        "\n",
        "* * *\n",
        "\n",
        "* * * *\n",
        "\n",
        "* * * * *\n",
        "\n",
        "* * * *\n",
        "\n",
        "* * *\n",
        "\n",
        "* *\n",
        "\n",
        "*"
      ]
    },
    {
      "cell_type": "code",
      "metadata": {
        "colab": {
          "base_uri": "https://localhost:8080/"
        },
        "id": "FPHpn6v8Q00d",
        "outputId": "2b51861f-efe0-4c6f-f2c8-99a6eeabf56c"
      },
      "source": [
        "n=5\n",
        "for i in range(n):\n",
        "  for j in range(i):\n",
        "    print(\"* \",end=\" \")\n",
        "  print(\" \")\n",
        "  print(\" \")\n",
        "for i in range(n,0,-1):\n",
        "  for j in range(i):\n",
        "    print(\"* \",end=\" \")\n",
        "  print(\" \")\n",
        "  print(\" \")"
      ],
      "execution_count": null,
      "outputs": [
        {
          "output_type": "stream",
          "text": [
            " \n",
            " \n",
            "*   \n",
            " \n",
            "*  *   \n",
            " \n",
            "*  *  *   \n",
            " \n",
            "*  *  *  *   \n",
            " \n",
            "*  *  *  *  *   \n",
            " \n",
            "*  *  *  *   \n",
            " \n",
            "*  *  *   \n",
            " \n",
            "*  *   \n",
            " \n",
            "*   \n",
            " \n"
          ],
          "name": "stdout"
        }
      ]
    },
    {
      "cell_type": "markdown",
      "metadata": {
        "id": "rH04Sy9GR1zU"
      },
      "source": [
        "5.   Lets say you are running a 50 km race. Write a program that,\n",
        "\n",
        "Upon completing each 10 km asks you \"are you tired?\"\n",
        "If you reply \"yes\" then it should break and print \"you didn't finish the race\"\n",
        " If you reply \"no\" then it should continue and ask \"are you tired\" on every km\n",
        "If you finish all 50 km then it should print congratulations message"
      ]
    },
    {
      "cell_type": "code",
      "metadata": {
        "colab": {
          "base_uri": "https://localhost:8080/"
        },
        "id": "57W97XyrR8U1",
        "outputId": "28232897-c03c-4796-ff3c-95047293349d"
      },
      "source": [
        "for distance in range(1,51):\n",
        "  if distance <50 and distance%10==0:\n",
        "    print(\"Are you tired?\")\n",
        "    reply= input(\"Enter Yes or No: \") \n",
        "    if reply.lower() ==\"yes\":\n",
        "      print(\"You didn't finish the race \")\n",
        "      break\n",
        "    elif reply.lower()==\"no\":\n",
        "      continue\n",
        "    else:\n",
        "      print(\"Invalid input\")\n",
        "if distance ==50:\n",
        "  print(\"Congratulations!\")\n",
        "    "
      ],
      "execution_count": null,
      "outputs": [
        {
          "output_type": "stream",
          "text": [
            "Are you tired?\n",
            "Enter Yes or No: no\n",
            "Are you tired?\n",
            "Enter Yes or No: No\n",
            "Are you tired?\n",
            "Enter Yes or No: no\n",
            "Are you tired?\n",
            "Enter Yes or No: no\n",
            "Congratulations!\n"
          ],
          "name": "stdout"
        }
      ]
    },
    {
      "cell_type": "markdown",
      "metadata": {
        "id": "zuOgEC-FUxm1"
      },
      "source": [
        "6.  Write a Python program to find those numbers which are divisible by 7 and multiple of 5, between 1500 and 2700 (both included)."
      ]
    },
    {
      "cell_type": "code",
      "metadata": {
        "colab": {
          "base_uri": "https://localhost:8080/"
        },
        "id": "8ygMjFk8U2Ki",
        "outputId": "bef2e86f-7c8d-48c3-8b92-77d1da63bb6d"
      },
      "source": [
        "for number in range(1500,2701):\n",
        "    if number % 7 == 0 and number % 5 == 0:\n",
        "          print(number,end=\" \")"
      ],
      "execution_count": null,
      "outputs": [
        {
          "output_type": "stream",
          "text": [
            "1505 1540 1575 1610 1645 1680 1715 1750 1785 1820 1855 1890 1925 1960 1995 2030 2065 2100 2135 2170 2205 2240 2275 2310 2345 2380 2415 2450 2485 2520 2555 2590 2625 2660 2695 "
          ],
          "name": "stdout"
        }
      ]
    },
    {
      "cell_type": "markdown",
      "metadata": {
        "id": "qHsgp1BHVd1M"
      },
      "source": [
        "7.   Print square of all numbers between 10 to 20 except even numbers"
      ]
    },
    {
      "cell_type": "code",
      "metadata": {
        "colab": {
          "base_uri": "https://localhost:8080/"
        },
        "id": "NRCWWUftViCm",
        "outputId": "dd35e5f6-3cb1-4101-dc99-8a21962b819f"
      },
      "source": [
        "for number in range(10,21):\n",
        "  if number % 2 == 1:\n",
        "    print(number ** 2,end=\" \")\n",
        "    "
      ],
      "execution_count": null,
      "outputs": [
        {
          "output_type": "stream",
          "text": [
            "121 169 225 289 361 "
          ],
          "name": "stdout"
        }
      ]
    },
    {
      "cell_type": "markdown",
      "metadata": {
        "id": "nb-TWCLdV6zv"
      },
      "source": [
        "8.  Your Marks for five Test(test1 to test5) looks like this,\n",
        "\n",
        "marks_list = [65, 75, 2100, 95, 83]\n",
        "\n",
        "Write a program that asks you to enter marks and program should tell you in which test that marks occurred. If marks is not found then it should print that as well."
      ]
    },
    {
      "cell_type": "code",
      "metadata": {
        "colab": {
          "base_uri": "https://localhost:8080/"
        },
        "id": "r0o9slaAV_Zs",
        "outputId": "e1ff6963-1573-4630-8ccc-8562aa18c979"
      },
      "source": [
        "marks_list=[65, 75,2100, 95, 83]\n",
        "given_mark=eval(input(\"Enter the mark: \"))\n",
        "\n",
        "if given_mark in marks_list:\n",
        "     idx = marks_list.index(given_mark)\n",
        "     print(f\"Test marks found in index : {idx}\")\n",
        "else:\n",
        "     print(\"Test marks not found\")"
      ],
      "execution_count": null,
      "outputs": [
        {
          "output_type": "stream",
          "text": [
            "Enter the mark: 75\n",
            "Test marks found in index : 1\n"
          ],
          "name": "stdout"
        }
      ]
    }
  ]
}