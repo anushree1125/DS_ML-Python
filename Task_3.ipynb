{
  "nbformat": 4,
  "nbformat_minor": 0,
  "metadata": {
    "colab": {
      "name": "Task-3_go_stp_3122.ipynb",
      "provenance": [],
      "collapsed_sections": [],
      "authorship_tag": "ABX9TyNdu7rw64dCmr42hPMci1b+",
      "include_colab_link": true
    },
    "kernelspec": {
      "display_name": "Python 3",
      "name": "python3"
    },
    "language_info": {
      "name": "python"
    }
  },
  "cells": [
    {
      "cell_type": "markdown",
      "metadata": {
        "id": "view-in-github",
        "colab_type": "text"
      },
      "source": [
        "<a href=\"https://colab.research.google.com/github/anushree1125/DS_ML-widpython/blob/main/Task_3.ipynb\" target=\"_parent\"><img src=\"https://colab.research.google.com/assets/colab-badge.svg\" alt=\"Open In Colab\"/></a>"
      ]
    },
    {
      "cell_type": "markdown",
      "metadata": {
        "id": "74GX8vFvksja"
      },
      "source": [
        "***Task-3 :Questions on dictionary***"
      ]
    },
    {
      "cell_type": "markdown",
      "metadata": {
        "id": "mbb5OpUck596"
      },
      "source": [
        "***Reg_no: GO_STP_3122***"
      ]
    },
    {
      "cell_type": "markdown",
      "metadata": {
        "id": "lOWZ6R6ClAHh"
      },
      "source": [
        "***1 Write a Python Program to sort (ascending and descending) a dictionary by value.*** "
      ]
    },
    {
      "cell_type": "code",
      "metadata": {
        "colab": {
          "base_uri": "https://localhost:8080/"
        },
        "id": "gxB2d1AuoDML",
        "outputId": "e9d16bb9-7750-43de-bbe9-5bcaa8ff4381"
      },
      "source": [
        "import operator\n",
        " \n",
        "d = {1: 2, 3: 4, 4: 3, 2: 1, 0: 0}\n",
        " \n",
        "s= dict(sorted(d.items(), key=operator.itemgetter(1)))\n",
        " \n",
        "print('ascending order : ',s)\n",
        " \n",
        "s1= dict( sorted(d.items(), key=operator.itemgetter(1),reverse=True))\n",
        " \n",
        "print('descending order : ',s1)"
      ],
      "execution_count": null,
      "outputs": [
        {
          "output_type": "stream",
          "text": [
            "ascending order :  {0: 0, 2: 1, 1: 2, 4: 3, 3: 4}\n",
            "descending order :  {3: 4, 4: 3, 1: 2, 2: 1, 0: 0}\n"
          ],
          "name": "stdout"
        }
      ]
    },
    {
      "cell_type": "markdown",
      "metadata": {
        "id": "XZY7qp_Cl9wJ"
      },
      "source": [
        " ***2.Write a Python Program to add a key to a dictionary.***"
      ]
    },
    {
      "cell_type": "code",
      "metadata": {
        "colab": {
          "base_uri": "https://localhost:8080/"
        },
        "id": "PL4zUTGxmIr5",
        "outputId": "e490324f-06b1-444a-ee5a-018db3bc61a4"
      },
      "source": [
        "d={'red':10,'green':20,'blue':30}\n",
        "print(d)\n",
        "d['whilte']=50\n",
        "print(d)"
      ],
      "execution_count": null,
      "outputs": [
        {
          "output_type": "stream",
          "text": [
            "{'red': 10, 'green': 20, 'blue': 30}\n",
            "{'red': 10, 'green': 20, 'blue': 30, 'whilte': 50}\n"
          ],
          "name": "stdout"
        }
      ]
    },
    {
      "cell_type": "code",
      "metadata": {
        "colab": {
          "base_uri": "https://localhost:8080/"
        },
        "id": "sRP7dtrlmkqp",
        "outputId": "77b7187e-5c15-477e-ba0e-b6bc299512f4"
      },
      "source": [
        "Sample_Dictionary={0: 10, 1: 20}\n",
        "print(Sample_Dictionary)\n",
        "Sample_Dictionary[2]=30 #Sample_Dictionary.update({2:30})\n",
        "print(Sample_Dictionary)"
      ],
      "execution_count": null,
      "outputs": [
        {
          "output_type": "stream",
          "text": [
            "{0: 10, 1: 20}\n",
            "{0: 10, 1: 20, 2: 30}\n"
          ],
          "name": "stdout"
        }
      ]
    },
    {
      "cell_type": "markdown",
      "metadata": {
        "id": "vSBBEe1hmhjZ"
      },
      "source": [
        "***3.Write a  program asks for City name and Temperature and builds a dictionary using that Later on you can input City name and it will tell you the Temperature of that City.***"
      ]
    },
    {
      "cell_type": "code",
      "metadata": {
        "colab": {
          "base_uri": "https://localhost:8080/"
        },
        "id": "Hpp8AtsMdbG1",
        "outputId": "d81af032-f66a-4ff2-f628-7a72ec4eddd6"
      },
      "source": [
        "#using infinite while loop\n",
        "dict={}\n",
        "var=1\n",
        "while var==1:\n",
        "    city=(input(\"Enter city name\\n\")).upper()\n",
        "    if city in dict:\n",
        "          print(\"City temperature is\")\n",
        "          print(dict[city])\n",
        "    else:\n",
        "          temp=int(input(\"Enter city temperature\\n\"))\n",
        "          dict.update({city:temp})\n",
        "    print(\"Press 0 if you want to exit\")\n",
        "    var=input()"
      ],
      "execution_count": null,
      "outputs": [
        {
          "output_type": "stream",
          "text": [
            "Enter city name\n",
            "Bidar\n",
            "Enter city temperature\n",
            "65\n",
            "Press 0 if you want to exit\n",
            "0\n",
            "Enter city name\n",
            "Xi\n",
            "Enter city temperature\n",
            "45\n",
            "Press 0 if you want to exit\n",
            "1\n"
          ],
          "name": "stdout"
        }
      ]
    },
    {
      "cell_type": "markdown",
      "metadata": {
        "id": "OFRS2p5CrjQy"
      },
      "source": [
        " ***4.Write a Python program to convert list to list of dictionaries.***\n",
        "\n",
        "Sample lists: [\"Black\", \"Red\", \"Maroon\", \"Yellow\"], [\"#000000\", \"#FF0000\", \"#800000\", \"#FFFF00\"] \n",
        "\n",
        "Expected Output: [{'color_name': 'Black', 'color_code': '#000000'}, {'color_name': 'Red', 'color_code': '#FF0000'}, {'color_name': 'Maroon', 'color_code': '#800000'}, {'color_name': 'Yellow', 'color_code': '#FFFF00'}]"
      ]
    },
    {
      "cell_type": "code",
      "metadata": {
        "colab": {
          "base_uri": "https://localhost:8080/"
        },
        "id": "OCKwaBL9eU8N",
        "outputId": "88fb0810-6e08-4089-9046-19c67297213f"
      },
      "source": [
        "d=dict(zip([\"Black\", \"Red\", \"Maroon\", \"Yellow\"], [\"#000000\", \"#FF0000\", \"#800000\", \"#FFFF00\"]))\n",
        "d"
      ],
      "execution_count": null,
      "outputs": [
        {
          "output_type": "execute_result",
          "data": {
            "text/plain": [
              "{'Black': '#000000',\n",
              " 'Maroon': '#800000',\n",
              " 'Red': '#FF0000',\n",
              " 'Yellow': '#FFFF00'}"
            ]
          },
          "metadata": {
            "tags": []
          },
          "execution_count": 3
        }
      ]
    },
    {
      "cell_type": "markdown",
      "metadata": {
        "id": "FXwBeIn1QYoN"
      },
      "source": [
        "***5. We have following information on Employees and their Salary (Salary is in lakhs)***\n",
        "\n",
        "\n",
        "John\t              14\n",
        "Smith\t              13\n",
        "Alice\t              32\n",
        "Daneil\t            21\n",
        "1.Using above create a dictionary of Employees and their Salary......\n"
      ]
    },
    {
      "cell_type": "code",
      "metadata": {
        "colab": {
          "background_save": true,
          "base_uri": "https://localhost:8080/"
        },
        "id": "PzNJIYB1Rs2s",
        "outputId": "9c8225a1-1bea-4f0b-f2af-136ef0ee4393"
      },
      "source": [
        "dic={\"John\":14,\"Smith\":13,\"Alice\":32,\"Daneil\":21} \n",
        "flag=True \n",
        "while(flag):\n",
        "      print(\"Enter your choice:\\n1.print2.add\\n3.remove\\n4.query\")\n",
        "      ch=input()\n",
        "      if ch==\"1\":\n",
        "          for emp in dic:\n",
        "              print(str(emp)+\" ==> \" +str(dic[emp]))\n",
        "      if ch==\"2\":\n",
        "          name=input(\"\\nEnter employee name\").upper()\n",
        "          if name in dic:\n",
        "              print(\"\\nEmployee exixts.\")\n",
        "          else:\n",
        "             sal=int(input(\"\\nEnter salary\"))\n",
        "             dic[name]=sal\n",
        "      if ch==\"3\":\n",
        "             name=input(\"\\nEnter name of employee to remove\")\n",
        "             if name in dic:\n",
        "                 print(name)\n",
        "                 dic.pop(name)    \n",
        "             else:\n",
        "                 print(\"\\nEmployee doesnt exist\")\n",
        "      if ch==\"4\":\n",
        "             name=input(\"\\nEnter name of employee\").upper\n",
        "             if name in dic:\n",
        "                 print(\"\\nEmployee salary is \"+dic[name])\n",
        "             else:\n",
        "                 print(\"\\nEmployee doesnt exist\")\n",
        "      else:\n",
        "             flag=False\n",
        "              "
      ],
      "execution_count": null,
      "outputs": [
        {
          "output_type": "stream",
          "text": [
            "Enter your choice:\n",
            "1.print2.add\n",
            "3.remove\n",
            "4.query\n",
            "John ==> 14\n",
            "Smith ==> 13\n",
            "Alice ==> 32\n",
            "Daneil ==> 21\n"
          ],
          "name": "stdout"
        }
      ]
    },
    {
      "cell_type": "markdown",
      "metadata": {
        "id": "qgWHoFqoWnhc"
      },
      "source": [
        "***6.What is the difference between a set and a frozenset? Create any set and try to use frozenset(setname).***"
      ]
    },
    {
      "cell_type": "markdown",
      "metadata": {
        "id": "d3TVVBfuWtsb"
      },
      "source": [
        "Frozen set is just an immutable version of a Python set object. While elements of a set can be modified at any time, elements of the frozen set remain the same after creation. Due to this, frozen sets can be used as keys in Dictionary or as elements of another set."
      ]
    },
    {
      "cell_type": "code",
      "metadata": {
        "colab": {
          "base_uri": "https://localhost:8080/"
        },
        "id": "xRH05apLWwRR",
        "outputId": "3f0dcfc6-f38c-4ce7-a810-5f0541b89047"
      },
      "source": [
        "s={1,2,3,4}\n",
        "print(type(s))\n",
        "set=frozenset(s)\n",
        "print(type(set))\n",
        "for i in set:\n",
        "    print (i)"
      ],
      "execution_count": null,
      "outputs": [
        {
          "output_type": "stream",
          "text": [
            "<class 'set'>\n",
            "<class 'frozenset'>\n",
            "1\n",
            "2\n",
            "3\n",
            "4\n"
          ],
          "name": "stdout"
        }
      ]
    },
    {
      "cell_type": "markdown",
      "metadata": {
        "id": "B7nnbBAQX2HN"
      },
      "source": [
        "*** 7.Find the elements in a given set that are not in another set***\n",
        "\n",
        "    set1 = {10,20,30,40,50}\n",
        "\n",
        "    set2 = {40,50,60,70,80}\n",
        "\n",
        " Difference between set1 and set2 is {10,20,30} "
      ]
    },
    {
      "cell_type": "code",
      "metadata": {
        "colab": {
          "base_uri": "https://localhost:8080/"
        },
        "id": "wQccQikcYYS8",
        "outputId": "e2aaea6b-3a6d-4d4c-f53b-f2bced5691d4"
      },
      "source": [
        "set1 = {10,20,30,40,50}\n",
        "set2 = {40,50,60,70,80}\n",
        "for i in set1:\n",
        "    if i not in set2:\n",
        "        print(i)"
      ],
      "execution_count": null,
      "outputs": [
        {
          "output_type": "stream",
          "text": [
            "10\n",
            "20\n",
            "30\n"
          ],
          "name": "stdout"
        }
      ]
    }
  ]
}