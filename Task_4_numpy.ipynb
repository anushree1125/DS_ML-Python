{
  "nbformat": 4,
  "nbformat_minor": 0,
  "metadata": {
    "colab": {
      "name": "GO_STP_3122: Task-4.ipynb",
      "provenance": [],
      "collapsed_sections": [],
      "authorship_tag": "ABX9TyP1um/d3h2haM5aV5jUGGAX",
      "include_colab_link": true
    },
    "kernelspec": {
      "name": "python3",
      "display_name": "Python 3"
    },
    "language_info": {
      "name": "python"
    }
  },
  "cells": [
    {
      "cell_type": "markdown",
      "metadata": {
        "id": "view-in-github",
        "colab_type": "text"
      },
      "source": [
        "<a href=\"https://colab.research.google.com/github/anushree1125/DS_ML-widpython/blob/main/Task_4_numpy.ipynb\" target=\"_parent\"><img src=\"https://colab.research.google.com/assets/colab-badge.svg\" alt=\"Open In Colab\"/></a>"
      ]
    },
    {
      "cell_type": "markdown",
      "metadata": {
        "id": "ljJojtkDdhCQ"
      },
      "source": [
        "***Task-4 : Questions on Numpy***"
      ]
    },
    {
      "cell_type": "markdown",
      "metadata": {
        "id": "dkIIw-AEdq3s"
      },
      "source": [
        "***Reg no: 3122***"
      ]
    },
    {
      "cell_type": "markdown",
      "metadata": {
        "id": "s919fzqreE5d"
      },
      "source": [
        "*1.Import the numpy package under the name np and Print the numpy version and the configuration* "
      ]
    },
    {
      "cell_type": "code",
      "metadata": {
        "colab": {
          "base_uri": "https://localhost:8080/"
        },
        "id": "hET6EJVjeTGE",
        "outputId": "d2a25ee3-e766-46cd-e57a-a59820f3eb9e"
      },
      "source": [
        "import numpy as np\n",
        "print(np.__version__)\n",
        "print(np.__config__)"
      ],
      "execution_count": null,
      "outputs": [
        {
          "output_type": "stream",
          "text": [
            "1.19.5\n",
            "<module 'numpy.__config__' from '/usr/local/lib/python3.7/dist-packages/numpy/__config__.py'>\n"
          ],
          "name": "stdout"
        }
      ]
    },
    {
      "cell_type": "markdown",
      "metadata": {
        "id": "km64Q-QNwKlq"
      },
      "source": [
        "***2.Create a null vector of size 10***"
      ]
    },
    {
      "cell_type": "code",
      "metadata": {
        "colab": {
          "base_uri": "https://localhost:8080/"
        },
        "id": "l4hfP63kwPpW",
        "outputId": "da0412c7-3753-4894-d8ea-934d59e8bf65"
      },
      "source": [
        "a=np.zeros(10)\n",
        "print(a)"
      ],
      "execution_count": null,
      "outputs": [
        {
          "output_type": "stream",
          "text": [
            "[0. 0. 0. 0. 0. 0. 0. 0. 0. 0.]\n"
          ],
          "name": "stdout"
        }
      ]
    },
    {
      "cell_type": "markdown",
      "metadata": {
        "id": "UxHeZMMlyUTA"
      },
      "source": [
        "***3.Create Simple 1-D array and check type and check data types in array***"
      ]
    },
    {
      "cell_type": "code",
      "metadata": {
        "colab": {
          "base_uri": "https://localhost:8080/"
        },
        "id": "fMzmh5qlyc3_",
        "outputId": "db6ed871-3edc-4fbe-899f-7ca57fb3d48c"
      },
      "source": [
        "a=np.array([1,2,3])\n",
        "print(a)\n",
        "print(type(a))\n",
        "print(a.dtype)"
      ],
      "execution_count": null,
      "outputs": [
        {
          "output_type": "stream",
          "text": [
            "[1 2 3]\n",
            "<class 'numpy.ndarray'>\n",
            "int64\n"
          ],
          "name": "stdout"
        }
      ]
    },
    {
      "cell_type": "markdown",
      "metadata": {
        "id": "7kCHyuuGzCgm"
      },
      "source": [
        "***4.How to find number of dimensions, bytes per element and bytes of memory used?***"
      ]
    },
    {
      "cell_type": "code",
      "metadata": {
        "colab": {
          "base_uri": "https://localhost:8080/"
        },
        "id": "98H3PCopzID-",
        "outputId": "5230970a-fd99-4dd2-9bc8-0a15e9aec94e"
      },
      "source": [
        "a=np.array([[1,2,3],[10,11,12]])\n",
        "print(a.ndim)\n",
        "print(a.itemsize)\n",
        "print(a.dtype)\n",
        "print(a.size)"
      ],
      "execution_count": null,
      "outputs": [
        {
          "output_type": "stream",
          "text": [
            "2\n",
            "8\n",
            "int64\n",
            "6\n"
          ],
          "name": "stdout"
        }
      ]
    },
    {
      "cell_type": "markdown",
      "metadata": {
        "id": "5TSC1yLu0PoX"
      },
      "source": [
        "***5.Create a null vector of size 10 but the fifth value which is 1***"
      ]
    },
    {
      "cell_type": "code",
      "metadata": {
        "colab": {
          "base_uri": "https://localhost:8080/"
        },
        "id": "213yrVvE0Ty1",
        "outputId": "de0cf993-f4b1-45cd-91bf-07f58d677a47"
      },
      "source": [
        "a=np.zeros(10)\n",
        "print(a)\n",
        "print(\"Updated value\")\n",
        "a[5]=1\n",
        "print(a)"
      ],
      "execution_count": null,
      "outputs": [
        {
          "output_type": "stream",
          "text": [
            "[0. 0. 0. 0. 0. 0. 0. 0. 0. 0.]\n",
            "Updated value\n",
            "[0. 0. 0. 0. 0. 1. 0. 0. 0. 0.]\n"
          ],
          "name": "stdout"
        }
      ]
    },
    {
      "cell_type": "markdown",
      "metadata": {
        "id": "2fVmTKgh0q5u"
      },
      "source": [
        "***6.Create a vector with values ranging from 10 to 49***"
      ]
    },
    {
      "cell_type": "code",
      "metadata": {
        "colab": {
          "base_uri": "https://localhost:8080/"
        },
        "id": "Oidcd7qd0wGe",
        "outputId": "93db6387-812f-4eb4-b90a-fa52c2b62510"
      },
      "source": [
        "np.arange(10,49)"
      ],
      "execution_count": null,
      "outputs": [
        {
          "output_type": "execute_result",
          "data": {
            "text/plain": [
              "array([10, 11, 12, 13, 14, 15, 16, 17, 18, 19, 20, 21, 22, 23, 24, 25, 26,\n",
              "       27, 28, 29, 30, 31, 32, 33, 34, 35, 36, 37, 38, 39, 40, 41, 42, 43,\n",
              "       44, 45, 46, 47, 48])"
            ]
          },
          "metadata": {
            "tags": []
          },
          "execution_count": 23
        }
      ]
    },
    {
      "cell_type": "markdown",
      "metadata": {
        "id": "EsU3Ayf51SrC"
      },
      "source": [
        "***7.Reverse a vector (first element becomes last)***"
      ]
    },
    {
      "cell_type": "code",
      "metadata": {
        "colab": {
          "base_uri": "https://localhost:8080/"
        },
        "id": "3vdePOub1bTf",
        "outputId": "c4d7ee60-b51b-42b0-b273-cb9cf95e41b4"
      },
      "source": [
        "a=np.array([1,2,3])\n",
        "print(a)\n",
        "b=np.flipud(a)\n",
        "print(b)"
      ],
      "execution_count": null,
      "outputs": [
        {
          "output_type": "stream",
          "text": [
            "[1 2 3]\n",
            "[3 2 1]\n"
          ],
          "name": "stdout"
        }
      ]
    },
    {
      "cell_type": "markdown",
      "metadata": {
        "id": "GDnYl4pN2Qhf"
      },
      "source": [
        "***8.Create a 3x3 matrix with values ranging from 0 to 8***"
      ]
    },
    {
      "cell_type": "code",
      "metadata": {
        "colab": {
          "base_uri": "https://localhost:8080/"
        },
        "id": "C6h0tgiI2U8Y",
        "outputId": "18e3c62f-779b-4703-9848-07efd4c350c6"
      },
      "source": [
        "a=np.arange(0,9).reshape(3,3)\n",
        "print(a)"
      ],
      "execution_count": null,
      "outputs": [
        {
          "output_type": "stream",
          "text": [
            "[[0 1 2]\n",
            " [3 4 5]\n",
            " [6 7 8]]\n"
          ],
          "name": "stdout"
        }
      ]
    },
    {
      "cell_type": "markdown",
      "metadata": {
        "id": "xpYOpuXD2_ty"
      },
      "source": [
        "***9.Find indices of non-zero elements from [1,2,0,0,4,0]***"
      ]
    },
    {
      "cell_type": "code",
      "metadata": {
        "colab": {
          "base_uri": "https://localhost:8080/"
        },
        "id": "4xDVvxl03Gp-",
        "outputId": "adaf824d-5203-4e8f-e3c5-4bf7a16ffc54"
      },
      "source": [
        "a=np.array([1,2,0,0,4,0])\n",
        "np.nonzero(a)"
      ],
      "execution_count": null,
      "outputs": [
        {
          "output_type": "execute_result",
          "data": {
            "text/plain": [
              "(array([0, 1, 4]),)"
            ]
          },
          "metadata": {
            "tags": []
          },
          "execution_count": 39
        }
      ]
    },
    {
      "cell_type": "markdown",
      "metadata": {
        "id": "epYp0KhH4Sgu"
      },
      "source": [
        "***10.Create a 3x3 identity matrix***"
      ]
    },
    {
      "cell_type": "code",
      "metadata": {
        "colab": {
          "base_uri": "https://localhost:8080/"
        },
        "id": "VS7Md9pH4Xdn",
        "outputId": "5950ecd3-6414-4e7e-c6ac-378795cfb987"
      },
      "source": [
        "a=np.identity(3)\n",
        "print(a)"
      ],
      "execution_count": null,
      "outputs": [
        {
          "output_type": "stream",
          "text": [
            "[[1. 0. 0.]\n",
            " [0. 1. 0.]\n",
            " [0. 0. 1.]]\n"
          ],
          "name": "stdout"
        }
      ]
    },
    {
      "cell_type": "markdown",
      "metadata": {
        "id": "XJ3Xulxp5Qgg"
      },
      "source": [
        "***11.Create a 3x3x3 array with random values***"
      ]
    },
    {
      "cell_type": "code",
      "metadata": {
        "colab": {
          "base_uri": "https://localhost:8080/"
        },
        "id": "naLd23bK5X3-",
        "outputId": "d32f5ec2-945b-4a13-db05-f94e6f503e43"
      },
      "source": [
        "a=np.random.random((3,3,3))\n",
        "print(a)"
      ],
      "execution_count": null,
      "outputs": [
        {
          "output_type": "stream",
          "text": [
            "[[[3.77546177e-01 8.99938744e-02 2.06156641e-01]\n",
            "  [3.95690448e-01 4.81642077e-01 6.52906439e-01]\n",
            "  [3.91748945e-04 9.26248375e-02 6.75776632e-01]]\n",
            "\n",
            " [[8.23261179e-01 1.75517492e-01 8.26781952e-01]\n",
            "  [4.78589499e-01 8.15832586e-01 4.71788095e-01]\n",
            "  [9.98790488e-01 2.74589565e-01 1.83450526e-01]]\n",
            "\n",
            " [[6.28139555e-01 2.90464026e-02 4.30678032e-02]\n",
            "  [2.00505845e-01 4.56728529e-01 9.65176477e-01]\n",
            "  [2.09097452e-01 2.97655441e-03 6.01941332e-01]]]\n"
          ],
          "name": "stdout"
        }
      ]
    },
    {
      "cell_type": "markdown",
      "metadata": {
        "id": "D9XTRvPR5poG"
      },
      "source": [
        "***12.Create a 10x10 array with random values and find the minimum and maximum values***"
      ]
    },
    {
      "cell_type": "code",
      "metadata": {
        "colab": {
          "base_uri": "https://localhost:8080/"
        },
        "id": "Alif4Q9j5wRG",
        "outputId": "8a278b43-ede2-4911-af0d-34e9d753d33a"
      },
      "source": [
        "a=np.random.random((10,10))\n",
        "print(a)\n",
        "print(\"Min=\")\n",
        "print(a.min())\n",
        "print(\"Max=\")\n",
        "print(a.max())"
      ],
      "execution_count": null,
      "outputs": [
        {
          "output_type": "stream",
          "text": [
            "[[0.42859252 0.47784054 0.00177548 0.22786846 0.70959949 0.49108602\n",
            "  0.95815624 0.97534822 0.56014718 0.80227545]\n",
            " [0.5791987  0.75725387 0.54898968 0.29061195 0.90493092 0.5623387\n",
            "  0.90077207 0.92096451 0.32454881 0.9172058 ]\n",
            " [0.71244434 0.87742663 0.70042166 0.94380005 0.97756745 0.30547136\n",
            "  0.06512592 0.90385043 0.56830503 0.18305649]\n",
            " [0.57961004 0.52230704 0.55745703 0.91764106 0.06341718 0.16342465\n",
            "  0.02932961 0.07830943 0.62723455 0.88441399]\n",
            " [0.82932682 0.61022595 0.55700419 0.41695299 0.84940727 0.36632373\n",
            "  0.69325067 0.83430236 0.0206513  0.31092323]\n",
            " [0.16658629 0.29314411 0.40337439 0.61946714 0.2077502  0.93695235\n",
            "  0.54500628 0.60251715 0.18119878 0.2479444 ]\n",
            " [0.38334517 0.80335569 0.72622987 0.75303119 0.83103965 0.55706433\n",
            "  0.42946908 0.07473432 0.28944421 0.89369094]\n",
            " [0.57963941 0.65667762 0.85409656 0.33544408 0.18786008 0.34377016\n",
            "  0.68325193 0.12412811 0.47385121 0.45567348]\n",
            " [0.04644601 0.3830924  0.28980125 0.1379276  0.21770681 0.9332763\n",
            "  0.07079407 0.59680106 0.49987375 0.88373171]\n",
            " [0.3836686  0.86041598 0.43744586 0.19790532 0.87158816 0.35279981\n",
            "  0.62206191 0.02033983 0.46262777 0.40342436]]\n",
            "Min=\n",
            "0.0017754820799859017\n",
            "Max=\n",
            "0.9775674502236597\n"
          ],
          "name": "stdout"
        }
      ]
    },
    {
      "cell_type": "markdown",
      "metadata": {
        "id": "uXC8h1rm6k0m"
      },
      "source": [
        "***13.Create a random vector of size 30 and find the mean value***"
      ]
    },
    {
      "cell_type": "code",
      "metadata": {
        "colab": {
          "base_uri": "https://localhost:8080/"
        },
        "id": "IDqLdUDO6s6Z",
        "outputId": "88ecf2d1-73dd-43b1-dbe0-ba65ab4fa180"
      },
      "source": [
        "a=np.random.random(30)\n",
        "print(a)\n",
        "b=np.mean(a)\n",
        "print(\"mean=\")\n",
        "print(b)"
      ],
      "execution_count": null,
      "outputs": [
        {
          "output_type": "stream",
          "text": [
            "[9.14067086e-01 9.57287913e-01 5.28424490e-01 1.00123240e-04\n",
            " 2.99641982e-01 4.49039071e-01 2.50324662e-01 7.44790322e-01\n",
            " 1.84344654e-01 5.31595911e-01 5.51614787e-01 1.38345871e-02\n",
            " 3.72439690e-01 2.15814628e-01 7.72712925e-01 1.24681735e-01\n",
            " 5.77737280e-01 3.69606584e-01 4.08484594e-01 7.57627400e-01\n",
            " 7.05556403e-01 4.11797246e-01 8.30012469e-01 5.01225733e-01\n",
            " 6.12906711e-01 6.20168084e-01 4.97590916e-01 7.46308184e-02\n",
            " 8.35054373e-01 2.92457297e-01]\n",
            "mean=\n",
            "0.48018568246067495\n"
          ],
          "name": "stdout"
        }
      ]
    },
    {
      "cell_type": "markdown",
      "metadata": {
        "id": "OTxwLlWg7ceH"
      },
      "source": [
        "***14.Create a 2d array with 1 on the border and 0 inside***"
      ]
    },
    {
      "cell_type": "code",
      "metadata": {
        "colab": {
          "base_uri": "https://localhost:8080/"
        },
        "id": "TnPsJH_t7hcC",
        "outputId": "2546a835-22de-4f82-b563-37ea851cef5e"
      },
      "source": [
        "a=np.ones((5,5))\n",
        "a[1:-1,1:-1]=0\n",
        "print(a)"
      ],
      "execution_count": null,
      "outputs": [
        {
          "output_type": "stream",
          "text": [
            "[[1. 1. 1. 1. 1.]\n",
            " [1. 0. 0. 0. 1.]\n",
            " [1. 0. 0. 0. 1.]\n",
            " [1. 0. 0. 0. 1.]\n",
            " [1. 1. 1. 1. 1.]]\n"
          ],
          "name": "stdout"
        }
      ]
    },
    {
      "cell_type": "markdown",
      "metadata": {
        "id": "0LmjUjIz8Ceg"
      },
      "source": [
        "***15.How to add a border (filled with 0's) around an existing array? ***"
      ]
    },
    {
      "cell_type": "code",
      "metadata": {
        "colab": {
          "base_uri": "https://localhost:8080/"
        },
        "id": "p6wYHael8hOl",
        "outputId": "71b27e15-b6a5-4cf5-b432-190ae8e6741f"
      },
      "source": [
        "a=np.ones((5,5))\n",
        "print(a)\n",
        "a=np.pad(a,pad_width=1,mode='constant',constant_values=0)\n",
        "print(a)"
      ],
      "execution_count": null,
      "outputs": [
        {
          "output_type": "stream",
          "text": [
            "[[1. 1. 1. 1. 1.]\n",
            " [1. 1. 1. 1. 1.]\n",
            " [1. 1. 1. 1. 1.]\n",
            " [1. 1. 1. 1. 1.]\n",
            " [1. 1. 1. 1. 1.]]\n",
            "[[0. 0. 0. 0. 0. 0. 0.]\n",
            " [0. 1. 1. 1. 1. 1. 0.]\n",
            " [0. 1. 1. 1. 1. 1. 0.]\n",
            " [0. 1. 1. 1. 1. 1. 0.]\n",
            " [0. 1. 1. 1. 1. 1. 0.]\n",
            " [0. 1. 1. 1. 1. 1. 0.]\n",
            " [0. 0. 0. 0. 0. 0. 0.]]\n"
          ],
          "name": "stdout"
        }
      ]
    },
    {
      "cell_type": "markdown",
      "metadata": {
        "id": "GTxfK3EnCKXh"
      },
      "source": [
        "***16.How to Accessing/Changing specific elements, rows, columns, etc in Numpy array?***\n",
        "\n",
        "Example -\n",
        "[[ 1 2 3 4 5 6 7] [ 8 9 10 11 12 13 14]]\n",
        "\n",
        "Get 13, get first row only, get 3rd column only, get [2, 4, 6], replace 13 by 20  "
      ]
    },
    {
      "cell_type": "code",
      "metadata": {
        "colab": {
          "base_uri": "https://localhost:8080/"
        },
        "id": "f77LIfjgCUzs",
        "outputId": "929d98fe-ee04-49c2-cbc6-d65459505b1e"
      },
      "source": [
        "a=np.array([[1,2,3,4,5,6,7],[8,9,10,11,12,13,14]])\n",
        "print(a)\n",
        "print(\"1st row only\")\n",
        "print(a[0:1,0:7])\n",
        "print(\" get 13th element\")\n",
        "print(a[1:2,5:6])\n",
        "print(\"3rd column\")\n",
        "print(a[:,2:3])\n",
        "print(\"get [2, 4, 6]\")\n",
        "print(a[0:1,1::2])\n",
        "print(\"replace 13 by 20\")\n",
        "a[1][5]=20\n",
        "print(a)"
      ],
      "execution_count": null,
      "outputs": [
        {
          "output_type": "stream",
          "text": [
            "[[ 1  2  3  4  5  6  7]\n",
            " [ 8  9 10 11 12 13 14]]\n",
            "1st row only\n",
            "[[1 2 3 4 5 6 7]]\n",
            " get 13th element\n",
            "[[13]]\n",
            "3rd column\n",
            "[[ 3]\n",
            " [10]]\n",
            "get [2, 4, 6]\n",
            "[[2 4 6]]\n",
            "replace 13 by 20\n",
            "[[ 1  2  3  4  5  6  7]\n",
            " [ 8  9 10 11 12 20 14]]\n"
          ],
          "name": "stdout"
        }
      ]
    },
    {
      "cell_type": "markdown",
      "metadata": {
        "id": "8uEE5hgJCciA"
      },
      "source": [
        "***17.How to Convert a 1D array to a 2D array with 2 rows***"
      ]
    },
    {
      "cell_type": "code",
      "metadata": {
        "colab": {
          "base_uri": "https://localhost:8080/"
        },
        "id": "HtazyR-ACgiL",
        "outputId": "a871a6d4-f30b-4e17-9bdc-be6a4040acf0"
      },
      "source": [
        "a=np.array([1,2,3,4,5,6])\n",
        "print(a)\n",
        "b=a.reshape(2,3)\n",
        "print(\"2D array\")\n",
        "print(b)"
      ],
      "execution_count": null,
      "outputs": [
        {
          "output_type": "stream",
          "text": [
            "[1 2 3 4 5 6]\n",
            "2D array\n",
            "[[1 2 3]\n",
            " [4 5 6]]\n"
          ],
          "name": "stdout"
        }
      ]
    },
    {
      "cell_type": "markdown",
      "metadata": {
        "id": "zr_DEr5vDJKl"
      },
      "source": [
        "***18.Create the following pattern without hardcoding. Use only numpy functions and the below input array a.***"
      ]
    },
    {
      "cell_type": "code",
      "metadata": {
        "colab": {
          "base_uri": "https://localhost:8080/"
        },
        "id": "VVWThVblDby8",
        "outputId": "d8f9d48c-79ca-4364-ae28-1b967a6154ff"
      },
      "source": [
        "a=np.array([1,2,3])\n",
        "a=np.append(np.repeat(a,3),np.tile(a,3))\n",
        "a"
      ],
      "execution_count": null,
      "outputs": [
        {
          "output_type": "execute_result",
          "data": {
            "text/plain": [
              "array([1, 1, 1, 2, 2, 2, 3, 3, 3, 1, 2, 3, 1, 2, 3, 1, 2, 3])"
            ]
          },
          "metadata": {
            "tags": []
          },
          "execution_count": 109
        }
      ]
    },
    {
      "cell_type": "markdown",
      "metadata": {
        "id": "U6exo0GWDgS2"
      },
      "source": [
        "***19.Write a program to show how Numpy taking less memory compared to Python List?***"
      ]
    },
    {
      "cell_type": "code",
      "metadata": {
        "colab": {
          "base_uri": "https://localhost:8080/"
        },
        "id": "JDYd2OHvDi0t",
        "outputId": "f3a4e5d7-2b2e-4f26-f20a-6ec5e3dd6517"
      },
      "source": [
        "l=range(1000)\n",
        "import sys\n",
        "print(sys.getsizeof(a))\n",
        "a=10\n",
        "print(\"memory used by list:\")\n",
        "print(sys.getsizeof(a)*len(l))\n",
        "a1=np.arange(1000)\n",
        "print(a1.size)\n",
        "print(\"memory used by numpy:\")\n",
        "print(a1.size*a1.itemsize)"
      ],
      "execution_count": null,
      "outputs": [
        {
          "output_type": "stream",
          "text": [
            "28\n",
            "memory used by list:\n",
            "28000\n",
            "1000\n",
            "memory used by numpy:\n",
            "8000\n"
          ],
          "name": "stdout"
        }
      ]
    },
    {
      "cell_type": "markdown",
      "metadata": {
        "id": "If2R6ezQEu1L"
      },
      "source": [
        "***20.Write a program to show how Numpy taking less time compared to Python List?***"
      ]
    },
    {
      "cell_type": "code",
      "metadata": {
        "colab": {
          "base_uri": "https://localhost:8080/"
        },
        "id": "_JRB0XQVE0wO",
        "outputId": "4789199d-293d-4121-f4ea-2ee4cef14584"
      },
      "source": [
        "import time\n",
        "import sys\n",
        "size=1000000\n",
        "l1=range(size)\n",
        "l2=range(size)\n",
        "n1=np.arange(size)\n",
        "n2=np.arange(size)\n",
        "start=time.time()\n",
        "result=[(x+y)for x,y in zip(l1,l2)]\n",
        "print(\"Time taken by python list\")\n",
        "print((time.time()-start)*1000)\n",
        "start=time.time()\n",
        "result=n1+n2\n",
        "print(\"Time taken by numpy\")\n",
        "print((time.time()-start)*1000)\n"
      ],
      "execution_count": null,
      "outputs": [
        {
          "output_type": "stream",
          "text": [
            "Time taken by python list\n",
            "135.22958755493164\n",
            "Time taken by numpy\n",
            "14.394044876098633\n"
          ],
          "name": "stdout"
        }
      ]
    }
  ]
}